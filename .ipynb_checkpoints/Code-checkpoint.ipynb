{
 "cells": [
  {
   "cell_type": "code",
   "execution_count": 2,
   "id": "c00f15fa-a47a-41c4-abe9-79dca326870c",
   "metadata": {},
   "outputs": [],
   "source": [
    "# import numpy, pandas, matplotlib\n",
    "\n",
    "import pandas as pd\n",
    "import numpy as np\n",
    "import matplotlib.pyplot as plt"
   ]
  },
  {
   "cell_type": "code",
   "execution_count": 3,
   "id": "d993022f-4bff-4721-b25e-068aaf897ebb",
   "metadata": {},
   "outputs": [
    {
     "data": {
      "text/html": [
       "<div>\n",
       "<style scoped>\n",
       "    .dataframe tbody tr th:only-of-type {\n",
       "        vertical-align: middle;\n",
       "    }\n",
       "\n",
       "    .dataframe tbody tr th {\n",
       "        vertical-align: top;\n",
       "    }\n",
       "\n",
       "    .dataframe thead th {\n",
       "        text-align: right;\n",
       "    }\n",
       "</style>\n",
       "<table border=\"1\" class=\"dataframe\">\n",
       "  <thead>\n",
       "    <tr style=\"text-align: right;\">\n",
       "      <th></th>\n",
       "      <th>Container</th>\n",
       "      <th>Delivery Number</th>\n",
       "      <th>Box Number</th>\n",
       "      <th>BoxDims</th>\n",
       "    </tr>\n",
       "  </thead>\n",
       "  <tbody>\n",
       "    <tr>\n",
       "      <th>0</th>\n",
       "      <td>CO12345</td>\n",
       "      <td>3045812378</td>\n",
       "      <td>F79-45678</td>\n",
       "      <td>8 x 12</td>\n",
       "    </tr>\n",
       "    <tr>\n",
       "      <th>1</th>\n",
       "      <td>CO12345</td>\n",
       "      <td>3080996722</td>\n",
       "      <td>F79-90662</td>\n",
       "      <td>20 x 25</td>\n",
       "    </tr>\n",
       "    <tr>\n",
       "      <th>2</th>\n",
       "      <td>CO12345</td>\n",
       "      <td>3080996722</td>\n",
       "      <td>F79-00571</td>\n",
       "      <td>8 x 12</td>\n",
       "    </tr>\n",
       "    <tr>\n",
       "      <th>3</th>\n",
       "      <td>CO12345</td>\n",
       "      <td>3065881234</td>\n",
       "      <td>F79-3508</td>\n",
       "      <td>20 x 25</td>\n",
       "    </tr>\n",
       "  </tbody>\n",
       "</table>\n",
       "</div>"
      ],
      "text/plain": [
       "  Container  Delivery Number Box Number  BoxDims\n",
       "0   CO12345       3045812378  F79-45678   8 x 12\n",
       "1   CO12345       3080996722  F79-90662  20 x 25\n",
       "2   CO12345       3080996722  F79-00571   8 x 12\n",
       "3   CO12345       3065881234   F79-3508  20 x 25"
      ]
     },
     "execution_count": 3,
     "metadata": {},
     "output_type": "execute_result"
    }
   ],
   "source": [
    "# read CSV file\n",
    "\n",
    "df = pd.read_csv('containerinfo1.csv')\n",
    "df.head()"
   ]
  },
  {
   "cell_type": "code",
   "execution_count": 4,
   "id": "b763d781-aaca-4c85-ad07-a8adba711535",
   "metadata": {},
   "outputs": [],
   "source": [
    "# count the number of boxes for each box dimension\n",
    "\n",
    "counts = df['BoxDims'].value_counts()"
   ]
  },
  {
   "cell_type": "code",
   "execution_count": 5,
   "id": "fdccd780-e7e6-45f3-84f1-4dc6045e9300",
   "metadata": {},
   "outputs": [
    {
     "name": "stdout",
     "output_type": "stream",
     "text": [
      "Number of boxes with dimensions '8 x 12':  2\n",
      "Number of boxes with dimensions '20 x 25':  2\n"
     ]
    }
   ],
   "source": [
    "# store the number of boxes with dimensions '8 x 12' and '20 x 25'\n",
    "\n",
    "n_812 = counts.get('8 x 12', 0)\n",
    "n_2025 = counts.get('20 x 25', 0)\n",
    "\n",
    "print(\"Number of boxes with dimensions '8 x 12': \", n_812)\n",
    "print(\"Number of boxes with dimensions '20 x 25': \", n_2025)"
   ]
  },
  {
   "cell_type": "code",
   "execution_count": 6,
   "id": "68d18296-756d-4d06-a4ef-68a0a7827294",
   "metadata": {},
   "outputs": [],
   "source": [
    "# import rectpack\n",
    "\n",
    "from rectpack import newPacker\n",
    "import rectpack.packer as packer"
   ]
  },
  {
   "cell_type": "code",
   "execution_count": 7,
   "id": "48d6823d-79a4-4f20-a4c2-2be7216c748d",
   "metadata": {},
   "outputs": [],
   "source": [
    "# plot the solution\n",
    "\n",
    "def soln_plot(rects, box_812, box_2025):\n",
    "    # Plot\n",
    "    plt.figure(figsize=(3,3))\n",
    "    plt.xlim(0, 500)\n",
    "    plt.ylim(0, 500)\n",
    "    \n",
    "    # Loop over all rectangles\n",
    "    for rect in rects:\n",
    "        b, x, y, w, h, rid = rect\n",
    "        x1, x2, x3, x4, x5 = x, x+w, x+w, x, x\n",
    "        y1, y2, y3, y4, y5 = y, y, y+h, y+h,y\n",
    "\n",
    "        # Pallet type\n",
    "        plt.plot([x1,x2,x3,x4,x5],[y1,y2,y3,y4,y5])\n",
    "    \n",
    "    plt.show()\n",
    "\n",
    "# b - Bin index\n",
    "# x - Rectangle bottom-left corner x coordinate\n",
    "# y - Rectangle bottom-left corner y coordinate\n",
    "# w - Rectangle width\n",
    "# h - Rectangle height\n",
    "# rid - User assigned rectangle ID"
   ]
  },
  {
   "cell_type": "code",
   "execution_count": 8,
   "id": "6346181e-015b-4357-b6c7-d9ed3e25cc4b",
   "metadata": {},
   "outputs": [],
   "source": [
    "# solve packing\n",
    "\n",
    "def solver(n_812, n_2025, bins):\n",
    "    # boxes to load\n",
    "    rectangles = [box_812 for i in range(n_812)] + [box_2025 for i in range(n_2025)]\n",
    "    \n",
    "    # build the Packer\n",
    "    # PackingMode.offline is an API call, packing won't start until pack() is called\n",
    "    # PackingMode.Global is an API call, packs  the rectangle with the best fit until it is full, then continues with next bin\n",
    "    pack = newPacker(mode = packer.PackingMode.Offline, bin_algo = packer.PackingBin.Global,\n",
    "                     rotation=True)\n",
    "\n",
    "    # add the rectangles to the packing queue\n",
    "    for r in rectangles:\n",
    "        pack.add_rect(*r)\n",
    "\n",
    "    # add the bins where the rectangles will be placed\n",
    "    for b in bins:\n",
    "        pack.add_bin(*b)\n",
    "\n",
    "    # start packing\n",
    "    pack.pack()\n",
    "\n",
    "    # full rectangle list\n",
    "    all_rects = pack.rect_list()\n",
    "\n",
    "    # pallets with dimensions\n",
    "    all_pals = [sorted([p[3], p[4]]) for p in all_rects]\n",
    "\n",
    "    # number of 8 x 12 and 20 x 25 boxes \n",
    "    b_812, b_2025 = all_pals.count(box_812), all_pals.count(box_2025)\n",
    "    print(\"{:,}/{:,} Pallets 8 x 10 (m) | {:,}/{:,} Pallets 20 x 25 (m)\".format(b_812, n_812, b_2025, n_2025))\n",
    "    \n",
    "    return all_rects, all_pals"
   ]
  },
  {
   "cell_type": "code",
   "execution_count": 9,
   "id": "f36763b2-8c6e-4f08-ae7f-e0fc37ff16bb",
   "metadata": {},
   "outputs": [],
   "source": [
    "# define box sizes\n",
    "box_812 = [80, 100]\n",
    "box_2025 = [200, 250]\n",
    "\n",
    "rectangles = [box_812 for i in range(n_812)] + [box_2025 for i in range(n_2025)]\n",
    "\n",
    "# Container size\n",
    "bins = [(500, 500)] "
   ]
  },
  {
   "cell_type": "code",
   "execution_count": 10,
   "id": "6ee76ed9-4da6-404d-8c80-659f9a4aef93",
   "metadata": {},
   "outputs": [
    {
     "name": "stdout",
     "output_type": "stream",
     "text": [
      "2/2 Pallets 8 x 10 (m) | 2/2 Pallets 20 x 25 (m)\n"
     ]
    },
    {
     "data": {
      "image/png": "[encoded data removed]",
      "text/plain": [
       "<Figure size 300x300 with 1 Axes>"
      ]
     },
     "metadata": {},
     "output_type": "display_data"
    }
   ],
   "source": [
    "# call the plot function\n",
    "\n",
    "rects, all_pals = solver(n_812, n_2025, bins)\n",
    "soln_plot(rects, box_812, box_2025)"
   ]
  },
  {
   "cell_type": "code",
   "execution_count": null,
   "id": "60bef81e-66e7-43fd-a428-c87f03f9234b",
   "metadata": {},
   "outputs": [],
   "source": []
  }
 ],
 "metadata": {
  "kernelspec": {
   "display_name": "Python 3 (ipykernel)",
   "language": "python",
   "name": "python3"
  },
  "language_info": {
   "codemirror_mode": {
    "name": "ipython",
    "version": 3
   },
   "file_extension": ".py",
   "mimetype": "text/x-python",
   "name": "python",
   "nbconvert_exporter": "python",
   "pygments_lexer": "ipython3",
   "version": "3.12.2"
  }
 },
 "nbformat": 4,
 "nbformat_minor": 5
}
